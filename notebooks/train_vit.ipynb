{
 "cells": [
  {
   "cell_type": "code",
   "execution_count": null,
   "metadata": {},
   "outputs": [],
   "source": [
    "! pip install .."
   ]
  },
  {
   "cell_type": "code",
   "execution_count": 2,
   "metadata": {},
   "outputs": [
    {
     "name": "stderr",
     "output_type": "stream",
     "text": [
      "c:\\Users\\eagle\\Documents\\repo\\.venv_spec_id\\lib\\site-packages\\tensorflow_addons\\utils\\ensure_tf_install.py:53: UserWarning: Tensorflow Addons supports using Python ops for all Tensorflow versions above or equal to 2.9.0 and strictly below 2.12.0 (nightly versions are not supported). \n",
      " The versions of TensorFlow you are currently using is 2.12.0 and is not supported. \n",
      "Some things might work, some things might not.\n",
      "If you were to encounter a bug, do not file an issue.\n",
      "If you want to make sure you're using a tested and supported configuration, either change the TensorFlow version or the TensorFlow Addons's version. \n",
      "You can find the compatibility matrix in TensorFlow Addon's readme:\n",
      "https://github.com/tensorflow/addons\n",
      "  warnings.warn(\n"
     ]
    }
   ],
   "source": [
    "import numpy as np\n",
    "import tensorflow as tf\n",
    "from tensorflow import keras\n",
    "from tensorflow.keras import layers\n",
    "import tensorflow_addons as tfa"
   ]
  },
  {
   "cell_type": "code",
   "execution_count": 3,
   "metadata": {},
   "outputs": [
    {
     "name": "stdout",
     "output_type": "stream",
     "text": [
      "x_train shape: (50000, 32, 32, 3) - y_train shape: (50000, 1)\n",
      "x_test shape: (10000, 32, 32, 3) - y_test shape: (10000, 1)\n"
     ]
    }
   ],
   "source": [
    "num_classes = 100\n",
    "input_shape = (32, 32, 3)\n",
    "\n",
    "(x_train, y_train), (x_test, y_test) = keras.datasets.cifar100.load_data()\n",
    "\n",
    "print(f\"x_train shape: {x_train.shape} - y_train shape: {y_train.shape}\")\n",
    "print(f\"x_test shape: {x_test.shape} - y_test shape: {y_test.shape}\")"
   ]
  },
  {
   "cell_type": "code",
   "execution_count": 4,
   "metadata": {},
   "outputs": [],
   "source": [
    "learning_rate = 0.001\n",
    "weight_decay = 0.0001\n",
    "batch_size = 256\n",
    "num_epochs = 10\n",
    "image_size = 72  # We'll resize input images to this size\n",
    "patch_size = 6  # Size of the patches to be extract from the input images\n",
    "num_patches = (image_size // patch_size) ** 2\n",
    "projection_dim = 64\n",
    "num_heads = 4\n",
    "transformer_units = [\n",
    "    projection_dim * 2,\n",
    "    projection_dim,\n",
    "]  # Size of the transformer layers\n",
    "transformer_layers = 10\n",
    "mlp_head_units = [2048, 1024]  # Size of the dense layers of the final classifier\n"
   ]
  },
  {
   "cell_type": "code",
   "execution_count": 5,
   "metadata": {},
   "outputs": [],
   "source": [
    "from src.specimenid.vit import *"
   ]
  },
  {
   "cell_type": "code",
   "execution_count": 6,
   "metadata": {},
   "outputs": [],
   "source": [
    "vit_classifier = create_vit_classifier(\n",
    "    x_train=x_train,\n",
    "    input_shape=(32, 32, 3),\n",
    "    image_size=image_size,\n",
    "    patch_size=patch_size,\n",
    "    num_patches=num_patches,\n",
    "    projection_dim=projection_dim,\n",
    "    transformer_layers=transformer_layers,\n",
    "    num_heads=num_heads,\n",
    "    transformer_units=transformer_units,\n",
    "    mlp_head_units=mlp_head_units,\n",
    "    num_classes=len(np.unique(y_train)),\n",
    ")"
   ]
  },
  {
   "cell_type": "code",
   "execution_count": 7,
   "metadata": {},
   "outputs": [
    {
     "name": "stdout",
     "output_type": "stream",
     "text": [
      "Epoch 1/10\n",
      "176/176 [==============================] - 1140s 6s/step - loss: 4.4782 - accuracy: 0.0442 - top-5-accuracy: 0.1577 - val_loss: 3.9452 - val_accuracy: 0.1038 - val_top-5-accuracy: 0.3088\n",
      "Epoch 2/10\n",
      "176/176 [==============================] - 1135s 6s/step - loss: 3.9413 - accuracy: 0.0949 - top-5-accuracy: 0.2920 - val_loss: 3.5467 - val_accuracy: 0.1616 - val_top-5-accuracy: 0.4166\n",
      "Epoch 3/10\n",
      "176/176 [==============================] - 1139s 6s/step - loss: 3.6679 - accuracy: 0.1330 - top-5-accuracy: 0.3750 - val_loss: 3.3719 - val_accuracy: 0.1966 - val_top-5-accuracy: 0.4606\n",
      "Epoch 4/10\n",
      "176/176 [==============================] - 1141s 6s/step - loss: 3.4967 - accuracy: 0.1613 - top-5-accuracy: 0.4282 - val_loss: 3.2628 - val_accuracy: 0.2194 - val_top-5-accuracy: 0.4966\n",
      "Epoch 5/10\n",
      "176/176 [==============================] - 1147s 7s/step - loss: 3.3466 - accuracy: 0.1922 - top-5-accuracy: 0.4695 - val_loss: 3.0727 - val_accuracy: 0.2448 - val_top-5-accuracy: 0.5400\n",
      "Epoch 6/10\n",
      "176/176 [==============================] - 1147s 7s/step - loss: 3.2126 - accuracy: 0.2160 - top-5-accuracy: 0.5056 - val_loss: 2.9544 - val_accuracy: 0.2732 - val_top-5-accuracy: 0.5682\n",
      "Epoch 7/10\n",
      "176/176 [==============================] - 1144s 7s/step - loss: 3.0851 - accuracy: 0.2382 - top-5-accuracy: 0.5356 - val_loss: 2.8534 - val_accuracy: 0.2904 - val_top-5-accuracy: 0.5862\n",
      "Epoch 8/10\n",
      "176/176 [==============================] - 1139s 6s/step - loss: 2.9824 - accuracy: 0.2617 - top-5-accuracy: 0.5587 - val_loss: 2.7466 - val_accuracy: 0.2978 - val_top-5-accuracy: 0.6130\n",
      "Epoch 9/10\n",
      "176/176 [==============================] - 1145s 7s/step - loss: 2.8777 - accuracy: 0.2813 - top-5-accuracy: 0.5870 - val_loss: 2.6799 - val_accuracy: 0.3270 - val_top-5-accuracy: 0.6272\n",
      "Epoch 10/10\n",
      "176/176 [==============================] - 1148s 7s/step - loss: 2.7783 - accuracy: 0.2987 - top-5-accuracy: 0.6079 - val_loss: 2.6239 - val_accuracy: 0.3354 - val_top-5-accuracy: 0.6386\n",
      "313/313 [==============================] - 89s 285ms/step - loss: 2.5875 - accuracy: 0.3470 - top-5-accuracy: 0.6494\n",
      "Test accuracy: 34.7%\n",
      "Test top 5 accuracy: 64.94%\n",
      "CPU times: total: 3h 42min 11s\n",
      "Wall time: 3h 11min 56s\n"
     ]
    }
   ],
   "source": [
    "%%time\n",
    "history, model = run_experiment(\n",
    "    x_train=x_train,\n",
    "    y_train=y_train,\n",
    "    x_test=x_test,\n",
    "    y_test=y_test,\n",
    "    model=vit_classifier,\n",
    "    do_ckeckpoint=False,\n",
    "    learning_rate=learning_rate,\n",
    "    weight_decay=weight_decay,\n",
    "    batch_size=batch_size,\n",
    "    num_epochs=num_epochs,\n",
    ")"
   ]
  }
 ],
 "metadata": {
  "kernelspec": {
   "display_name": ".venv_spec_id",
   "language": "python",
   "name": "python3"
  },
  "language_info": {
   "codemirror_mode": {
    "name": "ipython",
    "version": 3
   },
   "file_extension": ".py",
   "mimetype": "text/x-python",
   "name": "python",
   "nbconvert_exporter": "python",
   "pygments_lexer": "ipython3",
   "version": "3.10.10"
  },
  "orig_nbformat": 4
 },
 "nbformat": 4,
 "nbformat_minor": 2
}
